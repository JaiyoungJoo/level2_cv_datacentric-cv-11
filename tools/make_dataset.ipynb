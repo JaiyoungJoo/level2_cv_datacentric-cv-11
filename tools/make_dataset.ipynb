{
 "cells": [
  {
   "cell_type": "code",
   "execution_count": 1,
   "id": "ac2e152f-26da-4692-a362-34615cdeabb4",
   "metadata": {},
   "outputs": [],
   "source": [
    "import pandas as pd"
   ]
  },
  {
   "cell_type": "code",
   "execution_count": 2,
   "id": "64a4328e-1a0a-486c-b60c-24cde0f6950b",
   "metadata": {},
   "outputs": [],
   "source": [
    "trainset = pd.read_json('/opt/ml/input/data/medical/ufo/train.json')"
   ]
  },
  {
   "cell_type": "code",
   "execution_count": 3,
   "id": "2f760f22-48ff-4c65-9346-865647966834",
   "metadata": {},
   "outputs": [],
   "source": [
    "trainset_list = ['train/'+i for i in trainset['images'].keys()]"
   ]
  },
  {
   "cell_type": "code",
   "execution_count": 4,
   "id": "55019b97-6e35-47e5-af65-7458e0f91076",
   "metadata": {
    "scrolled": true
   },
   "outputs": [],
   "source": [
    "new_trainset = pd.DataFrame(trainset['images'].reindex(trainset_list, fill_value = trainset['images'].values[0]))"
   ]
  },
  {
   "cell_type": "code",
   "execution_count": 5,
   "id": "42b23744-03a9-46b0-aa5c-99075dc40962",
   "metadata": {},
   "outputs": [],
   "source": [
    "new_trainset.to_json('/opt/ml/input/data/medical/ufo/new_train.json')"
   ]
  }
 ],
 "metadata": {
  "kernelspec": {
   "display_name": "Python 3 (ipykernel)",
   "language": "python",
   "name": "python3"
  },
  "language_info": {
   "codemirror_mode": {
    "name": "ipython",
    "version": 3
   },
   "file_extension": ".py",
   "mimetype": "text/x-python",
   "name": "python",
   "nbconvert_exporter": "python",
   "pygments_lexer": "ipython3",
   "version": "3.8.5"
  }
 },
 "nbformat": 4,
 "nbformat_minor": 5
}
