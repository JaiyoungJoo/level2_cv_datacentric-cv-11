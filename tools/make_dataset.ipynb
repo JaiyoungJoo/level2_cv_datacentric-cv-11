{
 "cells": [
  {
   "cell_type": "code",
   "execution_count": null,
   "id": "ac2e152f-26da-4692-a362-34615cdeabb4",
   "metadata": {},
   "outputs": [],
   "source": [
    "import pandas as pd\n",
    "import json"
   ]
  },
  {
   "cell_type": "code",
   "execution_count": null,
   "id": "64a4328e-1a0a-486c-b60c-24cde0f6950b",
   "metadata": {},
   "outputs": [],
   "source": [
    "trainset = json.load(open('/opt/ml/input/data/medical/ufo/train.json'))"
   ]
  },
  {
   "cell_type": "code",
   "execution_count": null,
   "id": "5bbbc33a",
   "metadata": {},
   "outputs": [],
   "source": [
    "for k in trainset.keys():\n",
    "    indexes = []\n",
    "    if k != \"images\":\n",
    "        indexes.append(k)\n",
    "trainset.pop(*indexes)"
   ]
  },
  {
   "cell_type": "code",
   "execution_count": null,
   "id": "5b1cca8f",
   "metadata": {},
   "outputs": [],
   "source": [
    "trainset = pd.DataFrame(trainset)"
   ]
  },
  {
   "cell_type": "code",
   "execution_count": null,
   "id": "309c797a",
   "metadata": {},
   "outputs": [],
   "source": [
    "trainset_list = ['train/'+i for i in trainset['images'].keys()]"
   ]
  },
  {
   "cell_type": "code",
   "execution_count": null,
   "id": "2f760f22-48ff-4c65-9346-865647966834",
   "metadata": {},
   "outputs": [],
   "source": [
    "new_trainset = pd.DataFrame(trainset['images'].reindex(trainset_list, fill_value = trainset['images'].values[0]))"
   ]
  },
  {
   "cell_type": "code",
   "execution_count": null,
   "id": "67445d7e",
   "metadata": {},
   "outputs": [],
   "source": [
    "new_trainset.to_json('/opt/ml/input/data/medical/ufo/new_train.json')"
   ]
  }
 ],
 "metadata": {
  "kernelspec": {
   "display_name": "Python 3 (ipykernel)",
   "language": "python",
   "name": "python3"
  },
  "language_info": {
   "codemirror_mode": {
    "name": "ipython",
    "version": 3
   },
   "file_extension": ".py",
   "mimetype": "text/x-python",
   "name": "python",
   "nbconvert_exporter": "python",
   "pygments_lexer": "ipython3",
   "version": "3.8.5"
  }
 },
 "nbformat": 4,
 "nbformat_minor": 5
}
