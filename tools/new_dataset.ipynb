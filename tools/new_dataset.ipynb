{
 "cells": [
  {
   "cell_type": "code",
   "execution_count": 1,
   "id": "ac2e152f-26da-4692-a362-34615cdeabb4",
   "metadata": {},
   "outputs": [],
   "source": [
    "import pandas as pd\n",
    "import json"
   ]
  },
  {
   "cell_type": "code",
   "execution_count": 16,
   "id": "64a4328e-1a0a-486c-b60c-24cde0f6950b",
   "metadata": {},
   "outputs": [],
   "source": [
    "paths=[\"train\", \"train_original\"]\n",
    "trainset = json.load(open(f'/opt/ml/input/data/medical/ufo/{paths[0]}.json'))\n",
    "trainset_original = json.load(open(f'/opt/ml/input/data/medical/ufo/{paths[1]}.json'))\n",
    "datasets = [trainset, trainset_original]"
   ]
  },
  {
   "cell_type": "code",
   "execution_count": 17,
   "id": "6174867f",
   "metadata": {},
   "outputs": [],
   "source": [
    "current_keys =[]\n",
    "for path, dataset in zip(paths, datasets):\n",
    "    temp_keys = dataset[\"images\"].keys()\n",
    "    temp_images = [path +\"/\" + key  for key in temp_keys]\n",
    "    temp_dicts = dict(zip(temp_images, dataset[\"images\"].values()))\n",
    "    dataset[\"images\"] = temp_dicts"
   ]
  },
  {
   "attachments": {},
   "cell_type": "markdown",
   "id": "5c17cf06",
   "metadata": {},
   "source": [
    "경로 확인시 아래 주석 해제할것"
   ]
  },
  {
   "cell_type": "code",
   "execution_count": 21,
   "id": "53ef2b8e",
   "metadata": {},
   "outputs": [],
   "source": [
    "# for i, v in enumerate(trainset[\"images\"]):\n",
    "#     print(v)\n",
    "#     if i==10:\n",
    "#         break"
   ]
  },
  {
   "cell_type": "code",
   "execution_count": 22,
   "id": "208c470a",
   "metadata": {},
   "outputs": [],
   "source": [
    "trainset[\"images\"].update(trainset_original[\"images\"])"
   ]
  },
  {
   "cell_type": "code",
   "execution_count": 23,
   "id": "8bee0e89",
   "metadata": {},
   "outputs": [],
   "source": [
    "with open('/opt/ml/input/data/medical/ufo/new_sum_trainset.json', 'w') as file:\n",
    "    json.dump(trainset, file, indent=4, ensure_ascii=False)"
   ]
  }
 ],
 "metadata": {
  "kernelspec": {
   "display_name": "Python 3 (ipykernel)",
   "language": "python",
   "name": "python3"
  },
  "language_info": {
   "codemirror_mode": {
    "name": "ipython",
    "version": 3
   },
   "file_extension": ".py",
   "mimetype": "text/x-python",
   "name": "python",
   "nbconvert_exporter": "python",
   "pygments_lexer": "ipython3",
   "version": "3.8.5"
  }
 },
 "nbformat": 4,
 "nbformat_minor": 5
}
