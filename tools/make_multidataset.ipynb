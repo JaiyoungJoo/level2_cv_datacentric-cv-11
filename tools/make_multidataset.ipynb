{
 "cells": [
  {
   "cell_type": "code",
   "execution_count": 1,
   "id": "ac2e152f-26da-4692-a362-34615cdeabb4",
   "metadata": {},
   "outputs": [],
   "source": [
    "import pandas as pd\n",
    "import json"
   ]
  },
  {
   "cell_type": "code",
   "execution_count": 2,
   "id": "64a4328e-1a0a-486c-b60c-24cde0f6950b",
   "metadata": {},
   "outputs": [],
   "source": [
    "paths=[\"train\", \"train_original\"]\n",
    "trainset = json.load(open(f'/opt/ml/input/data/medical/ufo/{paths[0]}.json'))\n",
    "trainset_original = json.load(open(f'/opt/ml/input/data/medical/ufo/{paths[1]}.json'))\n",
    "datasets = [trainset, trainset_original]"
   ]
  },
  {
   "cell_type": "code",
   "execution_count": 3,
   "id": "5bbbc33a",
   "metadata": {},
   "outputs": [],
   "source": [
    "for dataset in datasets:\n",
    "    indexes = []\n",
    "    for k in dataset.keys():\n",
    "        if k != \"images\":\n",
    "            indexes.append(k)\n",
    "    for index in indexes:\n",
    "        dataset.pop(index)\n"
   ]
  },
  {
   "cell_type": "code",
   "execution_count": 4,
   "id": "5b1cca8f",
   "metadata": {},
   "outputs": [],
   "source": [
    "dataframes = list(map(pd.DataFrame, datasets))"
   ]
  },
  {
   "cell_type": "code",
   "execution_count": 5,
   "id": "b059e753",
   "metadata": {},
   "outputs": [],
   "source": [
    "index_lists=[]\n",
    "for i, dataframe in enumerate(dataframes):\n",
    "    temp_list = [paths[i]+\"/\"+j for j in dataframe[\"images\"].keys()]\n",
    "    index_lists.append(temp_list)"
   ]
  },
  {
   "cell_type": "code",
   "execution_count": 6,
   "id": "27da9e6e",
   "metadata": {},
   "outputs": [],
   "source": [
    "all_dataframes = []\n",
    "for index, dataframe in zip(index_lists, dataframes):\n",
    "    all_dataframes.append(pd.DataFrame(dataframe[\"images\"].reindex(index, fill_value=dataframe[\"images\"].values[0])))"
   ]
  },
  {
   "cell_type": "code",
   "execution_count": 7,
   "id": "2c9812eb",
   "metadata": {},
   "outputs": [],
   "source": [
    "allset = pd.concat(all_dataframes)"
   ]
  },
  {
   "cell_type": "code",
   "execution_count": 8,
   "id": "8f794ec2",
   "metadata": {},
   "outputs": [],
   "source": [
    "allset.to_json('/opt/ml/input/data/medical/ufo/all_data.json')"
   ]
  }
 ],
 "metadata": {
  "kernelspec": {
   "display_name": "Python 3 (ipykernel)",
   "language": "python",
   "name": "python3"
  },
  "language_info": {
   "codemirror_mode": {
    "name": "ipython",
    "version": 3
   },
   "file_extension": ".py",
   "mimetype": "text/x-python",
   "name": "python",
   "nbconvert_exporter": "python",
   "pygments_lexer": "ipython3",
   "version": "3.8.5"
  }
 },
 "nbformat": 4,
 "nbformat_minor": 5
}
